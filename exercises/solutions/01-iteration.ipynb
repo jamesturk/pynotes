{
 "cells": [
  {
   "cell_type": "markdown",
   "metadata": {},
   "source": [
    "## Exercise Set 1\n",
    "\n",
    "We'll do some basic examples with lists, dicts, sets, for loops, iteration, and functions."
   ]
  },
  {
   "cell_type": "markdown",
   "metadata": {},
   "source": [
    "1) First let's write a function to combine_strings"
   ]
  },
  {
   "cell_type": "code",
   "execution_count": 55,
   "metadata": {
    "collapsed": false
   },
   "outputs": [],
   "source": [
    "def combine_strings_enumerate(str1, str2):\n",
    "    new = \"\"\n",
    "    for i, c in enumerate(str1):\n",
    "        new += c\n",
    "        if i < len(str2):\n",
    "            new += str2[i]\n",
    "    if len(str1) < len(str2):\n",
    "        new += str2[len(str1):]\n",
    "    return new\n",
    "\n",
    "def combine_strings_zip(str1, str2):\n",
    "    s = \"\"\n",
    "    for x, y in zip(str1, str2):\n",
    "        if x:\n",
    "            s += x\n",
    "        if y:\n",
    "            s += y\n",
    "    if len(str1) < len(str2):\n",
    "        s += str2[len(str1):]\n",
    "    if len(str2) < len(str1):\n",
    "        s += str1[len(str2):]\n",
    "    return s\n",
    "\n",
    "from itertools import zip_longest\n",
    "def combine_strings_ziplongest(str1, str2):\n",
    "    s = \"\"\n",
    "    for x, y in zip_longest(str1, str2):\n",
    "        if x:\n",
    "            s += x\n",
    "        if y:\n",
    "            s += y\n",
    "    return s\n",
    "\n",
    "combine_strings = combine_strings_ziplongest"
   ]
  },
  {
   "cell_type": "code",
   "execution_count": null,
   "metadata": {
    "collapsed": false
   },
   "outputs": [],
   "source": []
  },
  {
   "cell_type": "code",
   "execution_count": 62,
   "metadata": {
    "collapsed": false
   },
   "outputs": [],
   "source": [
    "assert combine_strings(\"hello\", \"world\") == \"hweolrllod\"\n",
    "assert combine_strings(\"xyz\", \"ABCD\") == \"xAyBzCD\"\n",
    "assert combine_strings(\"\", \"\") == \"\"\n",
    "assert combine_strings(\"a\", \"et\") == \"aet\"\n",
    "assert combine_strings(\"et\", \"a\") == \"eat\""
   ]
  },
  {
   "cell_type": "markdown",
   "metadata": {},
   "source": [
    "2) Now write combine_lists that takes two list arguments."
   ]
  },
  {
   "cell_type": "code",
   "execution_count": 70,
   "metadata": {
    "collapsed": false
   },
   "outputs": [],
   "source": [
    "from itertools import zip_longest\n",
    "def combine_lists(str1, str2):\n",
    "    s = []\n",
    "    for x, y in zip_longest(str1, str2):\n",
    "        if x:\n",
    "            s.append(x)\n",
    "        if y:\n",
    "            s.append(y)\n",
    "    return s\n",
    "\n",
    "# why didn't we use the string one?\n",
    "#    strings are iterable but not mutable, so the solution is going to vary quite a bit\n",
    "#    the above would work (with tiny modification) for other sequence types"
   ]
  },
  {
   "cell_type": "code",
   "execution_count": 69,
   "metadata": {
    "collapsed": false
   },
   "outputs": [],
   "source": [
    "assert combine_lists([1,2,3], ['a','b','c']) == [1, 'a', 2, 'b', 3, 'c']\n",
    "assert combine_lists([], ['a','b','c']) == ['a', 'b', 'c']\n",
    "assert combine_lists(['a','b','c'], [1]) == ['a', 1, 'b', 'c']"
   ]
  },
  {
   "cell_type": "markdown",
   "metadata": {},
   "source": [
    "3) Now write combine_many('abc', '123', 'XYZ', ...) that obeys the same pattern."
   ]
  },
  {
   "cell_type": "code",
   "execution_count": 73,
   "metadata": {
    "collapsed": true
   },
   "outputs": [],
   "source": [
    "from itertools import zip_longest\n",
    "def combine_many(*strings):\n",
    "    s = \"\"\n",
    "    for pieces in zip_longest(*strings):\n",
    "        for piece in pieces:\n",
    "            if piece:\n",
    "                s += piece\n",
    "    return s"
   ]
  },
  {
   "cell_type": "code",
   "execution_count": 74,
   "metadata": {
    "collapsed": false
   },
   "outputs": [],
   "source": [
    "assert combine_many('abc', '123', 'XYZ') == \"a1Xb2Yc3Z\"\n",
    "assert combine_many('abc', '1234', ',,,,', '    done.') == 'a1, b2, c3, 4, done.'"
   ]
  },
  {
   "cell_type": "markdown",
   "metadata": {},
   "source": [
    "4) Let's write a phonebook."
   ]
  },
  {
   "cell_type": "code",
   "execution_count": 80,
   "metadata": {
    "collapsed": true
   },
   "outputs": [],
   "source": [
    "directory = {}\n",
    "\n",
    "def add_entry(first_name, last_name, number):\n",
    "    if number in directory.values():\n",
    "        raise ValueError('already exists')\n",
    "    directory[(last_name, first_name)] = number\n",
    "\n",
    "def lookup(first_name, last_name):\n",
    "    return directory[(last_name, first_name)]"
   ]
  },
  {
   "cell_type": "code",
   "execution_count": 81,
   "metadata": {
    "collapsed": false
   },
   "outputs": [],
   "source": [
    "add_entry('Bob', 'Smith', '111-1111')\n",
    "add_entry('Jane', 'Smith', '555-5555')\n",
    "add_entry('Betty', 'Jones', '222-2222')\n",
    "add_entry('Will', 'Adams', '333-3333')\n",
    "assert lookup('Bob', 'Smith') == '111-1111'\n",
    "assert lookup('Jane', 'Smith') == '555-5555'"
   ]
  },
  {
   "cell_type": "markdown",
   "metadata": {},
   "source": [
    "5) Let's enhance our phonebook to avoid duplicate phone numbers."
   ]
  },
  {
   "cell_type": "code",
   "execution_count": 82,
   "metadata": {
    "collapsed": false
   },
   "outputs": [
    {
     "ename": "ValueError",
     "evalue": "already exists",
     "output_type": "error",
     "traceback": [
      "\u001b[0;31m---------------------------------------------------------------------------\u001b[0m",
      "\u001b[0;31mValueError\u001b[0m                                Traceback (most recent call last)",
      "\u001b[0;32m<ipython-input-82-a5ebe4216cd0>\u001b[0m in \u001b[0;36m<module>\u001b[0;34m()\u001b[0m\n\u001b[0;32m----> 1\u001b[0;31m \u001b[0madd_entry\u001b[0m\u001b[0;34m(\u001b[0m\u001b[0;34m'Sarah'\u001b[0m\u001b[0;34m,\u001b[0m \u001b[0;34m'Null'\u001b[0m\u001b[0;34m,\u001b[0m \u001b[0;34m'333-3333'\u001b[0m\u001b[0;34m)\u001b[0m  \u001b[0;31m# should raise ValueError\u001b[0m\u001b[0;34m\u001b[0m\u001b[0m\n\u001b[0m",
      "\u001b[0;32m<ipython-input-80-69ba6a33131e>\u001b[0m in \u001b[0;36madd_entry\u001b[0;34m(first_name, last_name, number)\u001b[0m\n\u001b[1;32m      3\u001b[0m \u001b[0;32mdef\u001b[0m \u001b[0madd_entry\u001b[0m\u001b[0;34m(\u001b[0m\u001b[0mfirst_name\u001b[0m\u001b[0;34m,\u001b[0m \u001b[0mlast_name\u001b[0m\u001b[0;34m,\u001b[0m \u001b[0mnumber\u001b[0m\u001b[0;34m)\u001b[0m\u001b[0;34m:\u001b[0m\u001b[0;34m\u001b[0m\u001b[0m\n\u001b[1;32m      4\u001b[0m     \u001b[0;32mif\u001b[0m \u001b[0mnumber\u001b[0m \u001b[0;32min\u001b[0m \u001b[0mdirectory\u001b[0m\u001b[0;34m.\u001b[0m\u001b[0mvalues\u001b[0m\u001b[0;34m(\u001b[0m\u001b[0;34m)\u001b[0m\u001b[0;34m:\u001b[0m\u001b[0;34m\u001b[0m\u001b[0m\n\u001b[0;32m----> 5\u001b[0;31m         \u001b[0;32mraise\u001b[0m \u001b[0mValueError\u001b[0m\u001b[0;34m(\u001b[0m\u001b[0;34m'already exists'\u001b[0m\u001b[0;34m)\u001b[0m\u001b[0;34m\u001b[0m\u001b[0m\n\u001b[0m\u001b[1;32m      6\u001b[0m     \u001b[0mdirectory\u001b[0m\u001b[0;34m[\u001b[0m\u001b[0;34m(\u001b[0m\u001b[0mlast_name\u001b[0m\u001b[0;34m,\u001b[0m \u001b[0mfirst_name\u001b[0m\u001b[0;34m)\u001b[0m\u001b[0;34m]\u001b[0m \u001b[0;34m=\u001b[0m \u001b[0mnumber\u001b[0m\u001b[0;34m\u001b[0m\u001b[0m\n\u001b[1;32m      7\u001b[0m \u001b[0;34m\u001b[0m\u001b[0m\n",
      "\u001b[0;31mValueError\u001b[0m: already exists"
     ]
    }
   ],
   "source": [
    "add_entry('Sarah', 'Null', '333-3333')  # should raise ValueError"
   ]
  },
  {
   "cell_type": "markdown",
   "metadata": {},
   "source": [
    "6) Let's add a print method.\n",
    "\n",
    ">>> print_phonebook()\n",
    "Adams\n",
    "    Will 333-3333\n",
    "Jones\n",
    "    Betty 222-2222\n",
    "Smith\n",
    "    Bob 111-1111\n",
    "    Jane 555-5555"
   ]
  },
  {
   "cell_type": "code",
   "execution_count": 84,
   "metadata": {
    "collapsed": true
   },
   "outputs": [],
   "source": [
    "def print_phonebook():\n",
    "    last_last = None\n",
    "    for name, number in sorted(directory.items()):\n",
    "        last, first = name\n",
    "        if last != last_last:\n",
    "            print(last)\n",
    "            last_last = last\n",
    "        print('  ', first, number)"
   ]
  },
  {
   "cell_type": "code",
   "execution_count": 85,
   "metadata": {
    "collapsed": false
   },
   "outputs": [
    {
     "name": "stdout",
     "output_type": "stream",
     "text": [
      "Adams\n",
      "   Will 333-3333\n",
      "Jones\n",
      "   Betty 222-2222\n",
      "Smith\n",
      "   Bob 111-1111\n",
      "   Jane 555-5555\n"
     ]
    }
   ],
   "source": [
    "print_phonebook()"
   ]
  }
 ],
 "metadata": {
  "kernelspec": {
   "display_name": "Python 3",
   "language": "python",
   "name": "python3"
  },
  "language_info": {
   "codemirror_mode": {
    "name": "ipython",
    "version": 3
   },
   "file_extension": ".py",
   "mimetype": "text/x-python",
   "name": "python",
   "nbconvert_exporter": "python",
   "pygments_lexer": "ipython3",
   "version": "3.5.2"
  }
 },
 "nbformat": 4,
 "nbformat_minor": 1
}
