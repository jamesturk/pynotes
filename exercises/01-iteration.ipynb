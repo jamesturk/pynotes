{
 "cells": [
  {
   "cell_type": "markdown",
   "metadata": {},
   "source": [
    "## Exercise Set 1\n",
    "\n",
    "We'll do some basic examples with lists, dicts, sets, for loops, iteration, and functions."
   ]
  },
  {
   "cell_type": "markdown",
   "metadata": {},
   "source": [
    "1) First let's write a function to combine_strings"
   ]
  },
  {
   "cell_type": "code",
   "execution_count": null,
   "metadata": {
    "collapsed": false
   },
   "outputs": [],
   "source": [
    "def combine_strings(str1, str2):\n",
    "    return ''"
   ]
  },
  {
   "cell_type": "code",
   "execution_count": null,
   "metadata": {
    "collapsed": false
   },
   "outputs": [],
   "source": []
  },
  {
   "cell_type": "code",
   "execution_count": null,
   "metadata": {
    "collapsed": false
   },
   "outputs": [],
   "source": [
    "assert combine_strings(\"hello\", \"world\") == \"hweolrllod\"\n",
    "assert combine_strings(\"xyz\", \"ABCD\") == \"xAyBzCD\"\n",
    "assert combine_strings(\"\", \"\") == \"\"\n",
    "assert combine_strings(\"a\", \"et\") == \"aet\"\n",
    "assert combine_strings(\"et\", \"a\") == \"eat\""
   ]
  },
  {
   "cell_type": "markdown",
   "metadata": {},
   "source": [
    "2) Now write combine_lists that takes two list arguments."
   ]
  },
  {
   "cell_type": "code",
   "execution_count": null,
   "metadata": {
    "collapsed": false
   },
   "outputs": [],
   "source": [
    "def combine_lists():\n",
    "    pass"
   ]
  },
  {
   "cell_type": "code",
   "execution_count": null,
   "metadata": {
    "collapsed": false
   },
   "outputs": [],
   "source": [
    "assert combine_lists([1,2,3], ['a','b','c']) == [1, 'a', 2, 'b', 3, 'c']\n",
    "assert combine_lists([], ['a','b','c']) == ['a', 'b', 'c']\n",
    "assert combine_lists(['a','b','c'], [1]) == ['a', 1, 'b', 'c']"
   ]
  },
  {
   "cell_type": "markdown",
   "metadata": {},
   "source": [
    "3) Now write combine_many('abc', '123', 'XYZ', ...) that obeys the same pattern."
   ]
  },
  {
   "cell_type": "code",
   "execution_count": null,
   "metadata": {
    "collapsed": true
   },
   "outputs": [],
   "source": []
  },
  {
   "cell_type": "code",
   "execution_count": null,
   "metadata": {
    "collapsed": false
   },
   "outputs": [],
   "source": [
    "assert combine_many('abc', '123', 'XYZ') == \"a1Xb2Yc3Z\"\n",
    "assert combine_many('abc', '1234', ',,,,', '    done.') == 'a1, b2, c3, 4, done.'"
   ]
  },
  {
   "cell_type": "markdown",
   "metadata": {},
   "source": [
    "4) Let's write a phonebook."
   ]
  },
  {
   "cell_type": "code",
   "execution_count": null,
   "metadata": {
    "collapsed": true
   },
   "outputs": [],
   "source": [
    "directory = {}\n",
    "\n",
    "def add_entry(first_name, last_name, number):\n",
    "    pass\n",
    "\n",
    "def lookup(first_name, last_name):\n",
    "    pass"
   ]
  },
  {
   "cell_type": "code",
   "execution_count": null,
   "metadata": {
    "collapsed": false
   },
   "outputs": [],
   "source": [
    "add_entry('Bob', 'Smith', '111-1111')\n",
    "add_entry('Jane', 'Smith', '555-5555')\n",
    "add_entry('Betty', 'Jones', '222-2222')\n",
    "add_entry('Will', 'Adams', '333-3333')\n",
    "assert lookup('Bob', 'Smith') == '111-1111'\n",
    "assert lookup('Jane', 'Smith') == '555-5555'"
   ]
  },
  {
   "cell_type": "markdown",
   "metadata": {},
   "source": [
    "5) Let's enhance our phonebook to avoid duplicate phone numbers."
   ]
  },
  {
   "cell_type": "code",
   "execution_count": null,
   "metadata": {
    "collapsed": false
   },
   "outputs": [],
   "source": [
    "add_entry('Sarah', 'Null', '333-3333')  # should raise ValueError"
   ]
  },
  {
   "cell_type": "markdown",
   "metadata": {},
   "source": [
    "6) Let's add a print method.\n",
    "\n",
    ">>> print_phonebook()\n",
    "Adams\n",
    "    Will 333-3333\n",
    "Jones\n",
    "    Betty 222-2222\n",
    "Smith\n",
    "    Bob 111-1111\n",
    "    Jane 555-5555"
   ]
  },
  {
   "cell_type": "code",
   "execution_count": null,
   "metadata": {
    "collapsed": true
   },
   "outputs": [],
   "source": [
    "def print_phonebook():\n",
    "    pass"
   ]
  },
  {
   "cell_type": "code",
   "execution_count": null,
   "metadata": {
    "collapsed": false
   },
   "outputs": [],
   "source": [
    "print_phonebook()"
   ]
  }
 ],
 "metadata": {
  "kernelspec": {
   "display_name": "Python 3",
   "language": "python",
   "name": "python3"
  },
  "language_info": {
   "codemirror_mode": {
    "name": "ipython",
    "version": 3
   },
   "file_extension": ".py",
   "mimetype": "text/x-python",
   "name": "python",
   "nbconvert_exporter": "python",
   "pygments_lexer": "ipython3",
   "version": "3.5.2"
  }
 },
 "nbformat": 4,
 "nbformat_minor": 1
}
